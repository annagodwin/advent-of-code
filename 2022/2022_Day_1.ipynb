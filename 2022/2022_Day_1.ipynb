{
  "nbformat": 4,
  "nbformat_minor": 0,
  "metadata": {
    "colab": {
      "provenance": [],
      "authorship_tag": "ABX9TyMXhcQCb7Jjd3es/zoY7M2i",
      "include_colab_link": true
    },
    "kernelspec": {
      "name": "python3",
      "display_name": "Python 3"
    },
    "language_info": {
      "name": "python"
    }
  },
  "cells": [
    {
      "cell_type": "markdown",
      "metadata": {
        "id": "view-in-github",
        "colab_type": "text"
      },
      "source": [
        "<a href=\"https://colab.research.google.com/github/annagodwin/advent-of-code/blob/main/2022/2022_Day_1.ipynb\" target=\"_parent\"><img src=\"https://colab.research.google.com/assets/colab-badge.svg\" alt=\"Open In Colab\"/></a>"
      ]
    },
    {
      "cell_type": "code",
      "execution_count": 1,
      "metadata": {
        "colab": {
          "base_uri": "https://localhost:8080/"
        },
        "id": "e9rGWmji7-gS",
        "outputId": "248ee005-194f-46b3-d018-0d759cec036f"
      },
      "outputs": [
        {
          "output_type": "stream",
          "name": "stdout",
          "text": [
            "200\n"
          ]
        }
      ],
      "source": [
        "# 2022 Day 1\n",
        "\n",
        "# Saved my user input to github account\n",
        "url = 'https://raw.githubusercontent.com/annagodwin/advent-of-code/main/2022/inputs/day_1.txt'\n",
        "\n",
        "\n",
        "# Get file from web  save local copy\n",
        "import requests\n",
        "r = requests.get(url)\n",
        "\n",
        "# Save local copy\n",
        "with open('day_1.txt', 'wb') as f:\n",
        "    f.write(r.content)\n",
        "\n",
        "# Retrieve response status\n",
        "print(r.status_code)"
      ]
    },
    {
      "cell_type": "code",
      "source": [
        "# Store each line in the code as a list entry\n",
        "a_list = []\n",
        "with open('day_1.txt') as f:\n",
        "    for line in f:\n",
        "        a_list.append(line)"
      ],
      "metadata": {
        "id": "gnWrnWEi-dva"
      },
      "execution_count": 2,
      "outputs": []
    },
    {
      "cell_type": "code",
      "source": [
        "# the \\n\\n is an indicator for when a new elf begins\n",
        "b_list = ''.join(a_list).split('\\n\\n')\n",
        "\n",
        "# a single \\n is an indicator for separating food entries within a single elf\n",
        "# split these into a new list item for summing together\n",
        "c_list = []\n",
        "for b in b_list:\n",
        "  c = b.split('\\n')\n",
        "  if c[-1] == '':   # the final case ends in an empty string '', let's remove this entry\n",
        "    c = c[:-1]\n",
        "  c_list.append(sum(list(map(int,c)))) # convert to integer before summing all items within a single list\n",
        "\n",
        "# take the max of the summed values in the list for the:\n",
        "# Star 1 Result \n",
        "max(c_list)"
      ],
      "metadata": {
        "colab": {
          "base_uri": "https://localhost:8080/"
        },
        "id": "iKTiuEv5AERV",
        "outputId": "b6b449d9-6835-4de3-b1e5-f379f2a39720"
      },
      "execution_count": 3,
      "outputs": [
        {
          "output_type": "execute_result",
          "data": {
            "text/plain": [
              "68292"
            ]
          },
          "metadata": {},
          "execution_count": 3
        }
      ]
    },
    {
      "cell_type": "code",
      "source": [
        "# sort the list from biggest to smallest\n",
        "c_list.sort(reverse=True)"
      ],
      "metadata": {
        "id": "AhIZkUIGC0nH"
      },
      "execution_count": 4,
      "outputs": []
    },
    {
      "cell_type": "code",
      "source": [
        "# and sum the top 3 results for the:\n",
        "# Star 2 Result\n",
        "sum(c_list[0:3])"
      ],
      "metadata": {
        "colab": {
          "base_uri": "https://localhost:8080/"
        },
        "id": "AuJu_bAUd_r9",
        "outputId": "6d8ca036-759a-42a8-a754-79e34a594cef"
      },
      "execution_count": 5,
      "outputs": [
        {
          "output_type": "execute_result",
          "data": {
            "text/plain": [
              "203203"
            ]
          },
          "metadata": {},
          "execution_count": 5
        }
      ]
    }
  ]
}