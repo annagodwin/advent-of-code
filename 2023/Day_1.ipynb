{
 "cells": [
  {
   "cell_type": "markdown",
   "metadata": {},
   "source": [
    "# Day 1\n"
   ]
  },
  {
   "cell_type": "code",
   "execution_count": 39,
   "metadata": {},
   "outputs": [
    {
     "data": {
      "text/plain": [
       "['9dlvndqbddghpxc',\n",
       " 'rtkrbtthree8sixfoureight6',\n",
       " 'fdxrqmfxdkstpmcj7lmphgsmqqnmjrtwo3tcbc',\n",
       " 'onetjcsmgk57nvmkvcvkdtqtsksgpchsfsjzkkmb',\n",
       " 'six8threepvlxttc85two']"
      ]
     },
     "execution_count": 39,
     "metadata": {},
     "output_type": "execute_result"
    }
   ],
   "source": [
    "# Load data\n",
    "\n",
    "# Store each line in the code as a list entry\n",
    "input_list = []\n",
    "with open('inputs/day_1.txt') as f:\n",
    "    for line in f:\n",
    "        clean_line = line.replace('\\n','')\n",
    "        input_list.append(clean_line)\n",
    "\n",
    "input_list[0:5]"
   ]
  },
  {
   "cell_type": "code",
   "execution_count": 75,
   "metadata": {},
   "outputs": [
    {
     "name": "stdout",
     "output_type": "stream",
     "text": [
      "33\n",
      "38\n"
     ]
    }
   ],
   "source": [
    "# Helper variables and functions\n",
    "import re\n",
    "\n",
    "DIGIT_LIST_A = ['1','2','3','4','5',\n",
    "              '6','7','8','9'\n",
    "            ]\n",
    "\n",
    "DIGIT_LIST_B = ['1','2','3','4','5',\n",
    "              '6','7','8','9', \n",
    "              'one', 'two', 'three', 'four', 'five', \n",
    "              'six', 'seven', 'eight', 'nine'\n",
    "            ]\n",
    "\n",
    "DIGIT_MAP_DICT = {'one': '1',\n",
    "                'two': '2',\n",
    "                'three': '3',\n",
    "                'four': '4',\n",
    "                'five': '5',\n",
    "                'six': '6',\n",
    "                'seven': '7',\n",
    "                'eight': '8',\n",
    "                'nine': '9' }\n",
    "\n",
    "def clean_digit(digit_str):\n",
    "    try: \n",
    "        digit_int = int(digit_str)\n",
    "    except ValueError:\n",
    "        digit_int = DIGIT_MAP_DICT.get(digit_str)\n",
    "    return str(digit_int)\n",
    "\n",
    "def get_first_digit(input_str, digit_list):\n",
    "    kw_re = r'(?:' + '|'.join(map(re.escape, digit_list)) + r')'\n",
    "    match = re.search(kw_re, input_str)\n",
    "    return clean_digit(match[0])\n",
    "\n",
    "def get_last_digit(input_str, digit_list):\n",
    "    reverse_str = input_str[::-1]\n",
    "    reverse_digit_list = [d[::-1] for d in digit_list]\n",
    "    kw_re = r'(?:' + '|'.join(map(re.escape, reverse_digit_list)) + r')'\n",
    "    match = re.search(kw_re, reverse_str)\n",
    "    rev_match = match[0][::-1]\n",
    "    return clean_digit(rev_match)\n",
    "\n",
    "\n",
    "\n",
    "\n",
    "# Test helpers\n",
    "\n",
    "example_input = 'pqr3stueightvwx'\n",
    "output_a = get_first_digit(example_input, DIGIT_LIST_A) + get_last_digit(example_input, DIGIT_LIST_A)\n",
    "print(output_a)\n",
    "\n",
    "output_b = get_first_digit(example_input, DIGIT_LIST_B) + get_last_digit(example_input, DIGIT_LIST_B)\n",
    "print(output_b)\n"
   ]
  },
  {
   "cell_type": "markdown",
   "metadata": {},
   "source": [
    "# --- Part One ---\n",
    "\n",
    "The newly-improved calibration document consists of lines of text; each line originally contained a specific calibration value that the Elves now need to recover. On each line, the calibration value can be found by combining the first digit and the last digit (in that order) to form a single two-digit number.\n",
    "\n",
    "For example:\n",
    "\n",
    "```\n",
    "1abc2\n",
    "pqr3stu8vwx\n",
    "a1b2c3d4e5f\n",
    "treb7uchet\n",
    "```"
   ]
  },
  {
   "cell_type": "markdown",
   "metadata": {},
   "source": []
  },
  {
   "cell_type": "code",
   "execution_count": 76,
   "metadata": {},
   "outputs": [
    {
     "name": "stdout",
     "output_type": "stream",
     "text": [
      "True\n",
      "True\n"
     ]
    }
   ],
   "source": [
    "example_input = ['1abc2',\n",
    "                'pqr3stu8vwx',\n",
    "                'a1b2c3d4e5f',\n",
    "                'treb7uchet']\n",
    "example_ans = [12, 38, 15, 77]\n",
    "example_sum = 142\n",
    "\n",
    "answer = []\n",
    "for i in example_input:\n",
    "    ans = get_first_digit(i, DIGIT_LIST_A) + get_last_digit(i, DIGIT_LIST_A)\n",
    "    answer.append(int(ans))\n",
    "\n",
    "print(answer == example_ans)\n",
    "print(sum(answer) == example_sum)\n",
    "\n"
   ]
  },
  {
   "cell_type": "code",
   "execution_count": 77,
   "metadata": {},
   "outputs": [
    {
     "data": {
      "text/plain": [
       "55386"
      ]
     },
     "execution_count": 77,
     "metadata": {},
     "output_type": "execute_result"
    }
   ],
   "source": [
    "# Part A\n",
    "\n",
    "answer = []\n",
    "for i in input_list:\n",
    "    ans = get_first_digit(i, DIGIT_LIST_A) + get_last_digit(i, DIGIT_LIST_A)\n",
    "    answer.append(int(ans))\n",
    "\n",
    "sum(answer)"
   ]
  },
  {
   "cell_type": "code",
   "execution_count": null,
   "metadata": {},
   "outputs": [],
   "source": []
  },
  {
   "cell_type": "markdown",
   "metadata": {},
   "source": [
    "# --- Part Two ---\n",
    "Your calculation isn't quite right. It looks like some of the digits are actually spelled out with letters: one, two, three, four, five, six, seven, eight, and nine also count as valid \"digits\".\n",
    "\n",
    "Equipped with this new information, you now need to find the real first and last digit on each line. For example:\n",
    "\n",
    "```\n",
    "two1nine\n",
    "eightwothree\n",
    "abcone2threexyz\n",
    "xtwone3four\n",
    "4nineeightseven2\n",
    "zoneight234\n",
    "7pqrstsixteen\n",
    "```\n",
    "\n",
    "In this example, the calibration values are 29, 83, 13, 24, 42, 14, and 76. Adding these together produces 281."
   ]
  },
  {
   "cell_type": "code",
   "execution_count": 78,
   "metadata": {},
   "outputs": [
    {
     "name": "stdout",
     "output_type": "stream",
     "text": [
      "True\n",
      "True\n"
     ]
    }
   ],
   "source": [
    "example_input = ['two1nine',\n",
    "                'eightwothree',\n",
    "                'abcone2threexyz',\n",
    "                'xtwone3four',\n",
    "                '4nineeightseven2',\n",
    "                'zoneight234',\n",
    "                '7pqrstsixteen']\n",
    "example_ans = [29, 83, 13, 24, 42, 14, 76]\n",
    "example_sum = 281\n",
    "\n",
    "answer = []\n",
    "for i in example_input:\n",
    "    ans = get_first_digit(i, DIGIT_LIST_B) + get_last_digit(i, DIGIT_LIST_B)\n",
    "    answer.append(int(ans))\n",
    "\n",
    "print(answer == example_ans)\n",
    "print(sum(answer) == example_sum)\n"
   ]
  },
  {
   "cell_type": "code",
   "execution_count": 79,
   "metadata": {},
   "outputs": [
    {
     "data": {
      "text/plain": [
       "54824"
      ]
     },
     "execution_count": 79,
     "metadata": {},
     "output_type": "execute_result"
    }
   ],
   "source": [
    "# Part B\n",
    "\n",
    "answer = []\n",
    "for i in input_list:\n",
    "    ans = get_first_digit(i, DIGIT_LIST_B) + get_last_digit(i, DIGIT_LIST_B)\n",
    "    answer.append(int(ans))\n",
    "\n",
    "sum(answer)"
   ]
  }
 ],
 "metadata": {
  "kernelspec": {
   "display_name": "aoc",
   "language": "python",
   "name": "python3"
  },
  "language_info": {
   "codemirror_mode": {
    "name": "ipython",
    "version": 3
   },
   "file_extension": ".py",
   "mimetype": "text/x-python",
   "name": "python",
   "nbconvert_exporter": "python",
   "pygments_lexer": "ipython3",
   "version": "3.10.12"
  },
  "orig_nbformat": 4
 },
 "nbformat": 4,
 "nbformat_minor": 2
}
