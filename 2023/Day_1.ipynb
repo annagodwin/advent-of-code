{
 "cells": [
  {
   "cell_type": "code",
   "execution_count": null,
   "metadata": {},
   "outputs": [],
   "source": [
    "# 2023 Day 1\n",
    "\n",
    "# Saved my user input to github account\n",
    "url = 'https://raw.githubusercontent.com/annagodwin/advent-of-code/main/2023/inputs/day_1.txt'\n",
    "\n",
    "\n",
    "# Get file from web  save local copy\n",
    "import requests\n",
    "r = requests.get(url)\n",
    "\n",
    "# Save local copy\n",
    "with open('day_1.txt', 'wb') as f:\n",
    "    f.write(r.content)\n",
    "\n",
    "# Retrieve response status\n",
    "print(r.status_code)"
   ]
  }
 ],
 "metadata": {
  "kernelspec": {
   "display_name": "aoc",
   "language": "python",
   "name": "python3"
  },
  "language_info": {
   "name": "python",
   "version": "3.10.12"
  },
  "orig_nbformat": 4
 },
 "nbformat": 4,
 "nbformat_minor": 2
}
